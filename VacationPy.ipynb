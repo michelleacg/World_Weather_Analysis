{
 "cells": [
  {
   "cell_type": "markdown",
   "id": "2fdadd56",
   "metadata": {},
   "source": [
    "**6.5.2 Create Heatmaps for Weather Parameters**"
   ]
  },
  {
   "cell_type": "code",
   "execution_count": 1,
   "id": "3c45a8d1",
   "metadata": {},
   "outputs": [],
   "source": [
    "# Import the dependencies.\n",
    "import pandas as pd\n",
    "import gmaps\n",
    "import requests\n",
    "# Import the API key.\n",
    "from config import g_key"
   ]
  },
  {
   "cell_type": "code",
   "execution_count": 2,
   "id": "ad810728",
   "metadata": {},
   "outputs": [
    {
     "data": {
      "text/html": [
       "<div>\n",
       "<style scoped>\n",
       "    .dataframe tbody tr th:only-of-type {\n",
       "        vertical-align: middle;\n",
       "    }\n",
       "\n",
       "    .dataframe tbody tr th {\n",
       "        vertical-align: top;\n",
       "    }\n",
       "\n",
       "    .dataframe thead th {\n",
       "        text-align: right;\n",
       "    }\n",
       "</style>\n",
       "<table border=\"1\" class=\"dataframe\">\n",
       "  <thead>\n",
       "    <tr style=\"text-align: right;\">\n",
       "      <th></th>\n",
       "      <th>City_ID</th>\n",
       "      <th>City</th>\n",
       "      <th>Country</th>\n",
       "      <th>Date</th>\n",
       "      <th>Lat</th>\n",
       "      <th>Lng</th>\n",
       "      <th>Max Temp</th>\n",
       "      <th>Humidity</th>\n",
       "      <th>Cloudiness</th>\n",
       "      <th>Wind Speed</th>\n",
       "    </tr>\n",
       "  </thead>\n",
       "  <tbody>\n",
       "    <tr>\n",
       "      <th>0</th>\n",
       "      <td>0</td>\n",
       "      <td>Vaini</td>\n",
       "      <td>TO</td>\n",
       "      <td>2022-10-21 19:13:09</td>\n",
       "      <td>-21.2000</td>\n",
       "      <td>-175.2000</td>\n",
       "      <td>73.56</td>\n",
       "      <td>88</td>\n",
       "      <td>100</td>\n",
       "      <td>10.36</td>\n",
       "    </tr>\n",
       "    <tr>\n",
       "      <th>1</th>\n",
       "      <td>1</td>\n",
       "      <td>Ushuaia</td>\n",
       "      <td>AR</td>\n",
       "      <td>2022-10-21 19:09:08</td>\n",
       "      <td>-54.8000</td>\n",
       "      <td>-68.3000</td>\n",
       "      <td>53.26</td>\n",
       "      <td>32</td>\n",
       "      <td>75</td>\n",
       "      <td>11.50</td>\n",
       "    </tr>\n",
       "    <tr>\n",
       "      <th>2</th>\n",
       "      <td>2</td>\n",
       "      <td>Rio Grande</td>\n",
       "      <td>BR</td>\n",
       "      <td>2022-10-21 19:13:10</td>\n",
       "      <td>-32.0350</td>\n",
       "      <td>-52.0986</td>\n",
       "      <td>60.71</td>\n",
       "      <td>91</td>\n",
       "      <td>95</td>\n",
       "      <td>14.23</td>\n",
       "    </tr>\n",
       "    <tr>\n",
       "      <th>3</th>\n",
       "      <td>3</td>\n",
       "      <td>Torbay</td>\n",
       "      <td>CA</td>\n",
       "      <td>2022-10-21 19:13:10</td>\n",
       "      <td>47.6666</td>\n",
       "      <td>-52.7314</td>\n",
       "      <td>55.89</td>\n",
       "      <td>74</td>\n",
       "      <td>100</td>\n",
       "      <td>1.01</td>\n",
       "    </tr>\n",
       "    <tr>\n",
       "      <th>4</th>\n",
       "      <td>4</td>\n",
       "      <td>Bumba</td>\n",
       "      <td>CD</td>\n",
       "      <td>2022-10-21 19:13:11</td>\n",
       "      <td>2.1833</td>\n",
       "      <td>22.4667</td>\n",
       "      <td>73.20</td>\n",
       "      <td>89</td>\n",
       "      <td>100</td>\n",
       "      <td>2.55</td>\n",
       "    </tr>\n",
       "  </tbody>\n",
       "</table>\n",
       "</div>"
      ],
      "text/plain": [
       "   City_ID        City Country                 Date      Lat       Lng  \\\n",
       "0        0       Vaini      TO  2022-10-21 19:13:09 -21.2000 -175.2000   \n",
       "1        1     Ushuaia      AR  2022-10-21 19:09:08 -54.8000  -68.3000   \n",
       "2        2  Rio Grande      BR  2022-10-21 19:13:10 -32.0350  -52.0986   \n",
       "3        3      Torbay      CA  2022-10-21 19:13:10  47.6666  -52.7314   \n",
       "4        4       Bumba      CD  2022-10-21 19:13:11   2.1833   22.4667   \n",
       "\n",
       "   Max Temp  Humidity  Cloudiness  Wind Speed  \n",
       "0     73.56        88         100       10.36  \n",
       "1     53.26        32          75       11.50  \n",
       "2     60.71        91          95       14.23  \n",
       "3     55.89        74         100        1.01  \n",
       "4     73.20        89         100        2.55  "
      ]
     },
     "execution_count": 2,
     "metadata": {},
     "output_type": "execute_result"
    }
   ],
   "source": [
    "# Store the CSV you saved created in part one into a DataFrame.\n",
    "city_data_df = pd.read_csv(\"weather_data/cities.csv\")\n",
    "city_data_df.head()"
   ]
  },
  {
   "cell_type": "code",
   "execution_count": 3,
   "id": "58fc3e70",
   "metadata": {},
   "outputs": [
    {
     "data": {
      "text/plain": [
       "City_ID         int64\n",
       "City           object\n",
       "Country        object\n",
       "Date           object\n",
       "Lat           float64\n",
       "Lng           float64\n",
       "Max Temp      float64\n",
       "Humidity        int64\n",
       "Cloudiness      int64\n",
       "Wind Speed    float64\n",
       "dtype: object"
      ]
     },
     "execution_count": 3,
     "metadata": {},
     "output_type": "execute_result"
    }
   ],
   "source": [
    "# Get the data types\n",
    "city_data_df.dtypes"
   ]
  },
  {
   "cell_type": "code",
   "execution_count": 4,
   "id": "c152ff3d",
   "metadata": {},
   "outputs": [],
   "source": [
    "# Configure gmaps to use your Google API key.\n",
    "gmaps.configure(api_key=g_key)"
   ]
  },
  {
   "cell_type": "raw",
   "id": "22af57b3",
   "metadata": {},
   "source": [
    "# 1. Assign the locations to an array of latitude and longitude pairs.\n",
    "locations = [latitude, longitude]\n",
    "# 2. Assign the weights variable to some values.\n",
    "temperatures = # an array of length equal to the locations array length\n",
    "# 3. Assign the figure variable to the gmaps.figure() attribute.\n",
    "fig = gmaps.figure()\n",
    "# 4. Assign the heatmap_layer variable to the heatmap_layer attribute and add in the locations.\n",
    "heatmap_layer = gmaps.heatmap_layer(locations, weights=temperatures)\n",
    "\n",
    "# 5. Add the heatmap layer.\n",
    "fig.add_layer(heatmap_layer)\n",
    "# 6. Call the figure to plot the data.\n",
    "fig"
   ]
  },
  {
   "cell_type": "code",
   "execution_count": 5,
   "id": "c8e396ed",
   "metadata": {},
   "outputs": [],
   "source": [
    "# Get the maximum temperature.\n",
    "max_temp = city_data_df[\"Max Temp\"]\n",
    "temps = []\n",
    "for temp in max_temp:\n",
    "    temps.append(max(temp, 0))"
   ]
  },
  {
   "cell_type": "code",
   "execution_count": 6,
   "id": "3248f9a5",
   "metadata": {},
   "outputs": [
    {
     "data": {
      "application/vnd.jupyter.widget-view+json": {
       "model_id": "43073802920e4860a2f1c9aaa05a68f1",
       "version_major": 2,
       "version_minor": 0
      },
      "text/plain": [
       "Figure(layout=FigureLayout(height='420px'))"
      ]
     },
     "metadata": {},
     "output_type": "display_data"
    }
   ],
   "source": [
    "# Heatmap of temperature\n",
    "# Get the latitude and longitude.\n",
    "locations = city_data_df[[\"Lat\", \"Lng\"]]\n",
    "# Get the maximum temperature.\n",
    "max_temp = city_data_df[\"Max Temp\"]\n",
    "# Assign the figure variable.\n",
    "fig = gmaps.figure()\n",
    "# Assign the heatmap variable.\n",
    "heat_layer = gmaps.heatmap_layer(locations, weights=[max(temp, 0) for temp in max_temp], dissipating=False, max_intensity=300, point_radius=4)\n",
    "# Add the heatmap layer.\n",
    "fig.add_layer(heat_layer)\n",
    "# Call the figure to plot the data.\n",
    "fig"
   ]
  },
  {
   "cell_type": "code",
   "execution_count": 7,
   "id": "db178bab",
   "metadata": {},
   "outputs": [],
   "source": [
    "#Adjust Heatmap Zoom, Intensity, and Point Radius\n",
    "fig = gmaps.figure(center=(30.0, 31.0), zoom_level=1.5)"
   ]
  },
  {
   "cell_type": "code",
   "execution_count": 8,
   "id": "0ef73cd7",
   "metadata": {},
   "outputs": [
    {
     "data": {
      "application/vnd.jupyter.widget-view+json": {
       "model_id": "e29a16fa00ce4683b83347e8eb7645a9",
       "version_major": 2,
       "version_minor": 0
      },
      "text/plain": [
       "Figure(layout=FigureLayout(height='420px'))"
      ]
     },
     "metadata": {},
     "output_type": "display_data"
    }
   ],
   "source": [
    "# Heatmap of percent humidity\n",
    "locations = city_data_df[[\"Lat\", \"Lng\"]]\n",
    "humidity = city_data_df[\"Humidity\"]\n",
    "fig = gmaps.figure(center=(30.0, 31.0), zoom_level=1.5)\n",
    "heat_layer = gmaps.heatmap_layer(locations, weights=humidity, dissipating=False, max_intensity=300, point_radius=4)\n",
    "\n",
    "fig.add_layer(heat_layer)\n",
    "# Call the figure to plot the data.\n",
    "fig"
   ]
  },
  {
   "cell_type": "code",
   "execution_count": 9,
   "id": "45b10d9e",
   "metadata": {},
   "outputs": [
    {
     "data": {
      "application/vnd.jupyter.widget-view+json": {
       "model_id": "caea45933bc74b63ac3ea061811a851d",
       "version_major": 2,
       "version_minor": 0
      },
      "text/plain": [
       "Figure(layout=FigureLayout(height='420px'))"
      ]
     },
     "metadata": {},
     "output_type": "display_data"
    }
   ],
   "source": [
    "# Heatmap of percent cloudiness\n",
    "locations = city_data_df[[\"Lat\", \"Lng\"]]\n",
    "clouds = city_data_df[\"Cloudiness\"]\n",
    "fig = gmaps.figure(center=(30.0, 31.0), zoom_level=1.5)\n",
    "heat_layer = gmaps.heatmap_layer(locations, weights=clouds, dissipating=False, max_intensity=300, point_radius=4)\n",
    "\n",
    "fig.add_layer(heat_layer)\n",
    "# Call the figure to plot the data.\n",
    "fig"
   ]
  },
  {
   "cell_type": "code",
   "execution_count": 10,
   "id": "d03028f9",
   "metadata": {},
   "outputs": [
    {
     "data": {
      "application/vnd.jupyter.widget-view+json": {
       "model_id": "e7939b73b03e457d9de6b41c3c251cd0",
       "version_major": 2,
       "version_minor": 0
      },
      "text/plain": [
       "Figure(layout=FigureLayout(height='420px'))"
      ]
     },
     "metadata": {},
     "output_type": "display_data"
    }
   ],
   "source": [
    "# Heatmap of Wind Speed\n",
    "locations = city_data_df[[\"Lat\", \"Lng\"]]\n",
    "wind = city_data_df[\"Wind Speed\"]\n",
    "fig = gmaps.figure(center=(30.0, 31.0), zoom_level=1.5)\n",
    "heat_layer = gmaps.heatmap_layer(locations, weights=wind, dissipating=False, max_intensity=300, point_radius=4)\n",
    "\n",
    "fig.add_layer(heat_layer)\n",
    "# Call the figure to plot the data.\n",
    "fig"
   ]
  },
  {
   "cell_type": "markdown",
   "id": "60c1faf3",
   "metadata": {},
   "source": [
    "**6.5.3 Get Vacation Criteria**"
   ]
  },
  {
   "cell_type": "code",
   "execution_count": 11,
   "id": "17b155e1",
   "metadata": {},
   "outputs": [
    {
     "name": "stdout",
     "output_type": "stream",
     "text": [
      "What is the minimum temperature you would like for your trip? 75\n",
      "What is the maximum temperature you would like for your trip? 90\n"
     ]
    }
   ],
   "source": [
    "# Ask the customer to add a minimum and maximum temperature value.\n",
    "min_temp = float(input(\"What is the minimum temperature you would like for your trip? \"))\n",
    "max_temp = float(input(\"What is the maximum temperature you would like for your trip? \"))"
   ]
  },
  {
   "cell_type": "code",
   "execution_count": 12,
   "id": "98d26fcf",
   "metadata": {},
   "outputs": [
    {
     "data": {
      "text/html": [
       "<div>\n",
       "<style scoped>\n",
       "    .dataframe tbody tr th:only-of-type {\n",
       "        vertical-align: middle;\n",
       "    }\n",
       "\n",
       "    .dataframe tbody tr th {\n",
       "        vertical-align: top;\n",
       "    }\n",
       "\n",
       "    .dataframe thead th {\n",
       "        text-align: right;\n",
       "    }\n",
       "</style>\n",
       "<table border=\"1\" class=\"dataframe\">\n",
       "  <thead>\n",
       "    <tr style=\"text-align: right;\">\n",
       "      <th></th>\n",
       "      <th>City_ID</th>\n",
       "      <th>City</th>\n",
       "      <th>Country</th>\n",
       "      <th>Date</th>\n",
       "      <th>Lat</th>\n",
       "      <th>Lng</th>\n",
       "      <th>Max Temp</th>\n",
       "      <th>Humidity</th>\n",
       "      <th>Cloudiness</th>\n",
       "      <th>Wind Speed</th>\n",
       "    </tr>\n",
       "  </thead>\n",
       "  <tbody>\n",
       "    <tr>\n",
       "      <th>12</th>\n",
       "      <td>12</td>\n",
       "      <td>Iquitos</td>\n",
       "      <td>PE</td>\n",
       "      <td>2022-10-21 19:13:15</td>\n",
       "      <td>-3.7481</td>\n",
       "      <td>-73.2472</td>\n",
       "      <td>89.64</td>\n",
       "      <td>66</td>\n",
       "      <td>75</td>\n",
       "      <td>6.91</td>\n",
       "    </tr>\n",
       "    <tr>\n",
       "      <th>14</th>\n",
       "      <td>14</td>\n",
       "      <td>San Patricio</td>\n",
       "      <td>US</td>\n",
       "      <td>2022-10-21 19:13:16</td>\n",
       "      <td>28.0170</td>\n",
       "      <td>-97.5169</td>\n",
       "      <td>84.15</td>\n",
       "      <td>36</td>\n",
       "      <td>0</td>\n",
       "      <td>12.12</td>\n",
       "    </tr>\n",
       "    <tr>\n",
       "      <th>15</th>\n",
       "      <td>15</td>\n",
       "      <td>Kapaa</td>\n",
       "      <td>US</td>\n",
       "      <td>2022-10-21 19:13:17</td>\n",
       "      <td>22.0752</td>\n",
       "      <td>-159.3190</td>\n",
       "      <td>82.38</td>\n",
       "      <td>77</td>\n",
       "      <td>75</td>\n",
       "      <td>12.66</td>\n",
       "    </tr>\n",
       "    <tr>\n",
       "      <th>16</th>\n",
       "      <td>16</td>\n",
       "      <td>Laguna</td>\n",
       "      <td>US</td>\n",
       "      <td>2022-10-21 19:13:17</td>\n",
       "      <td>38.4210</td>\n",
       "      <td>-121.4238</td>\n",
       "      <td>85.08</td>\n",
       "      <td>46</td>\n",
       "      <td>0</td>\n",
       "      <td>6.91</td>\n",
       "    </tr>\n",
       "    <tr>\n",
       "      <th>17</th>\n",
       "      <td>17</td>\n",
       "      <td>Half Moon Bay</td>\n",
       "      <td>US</td>\n",
       "      <td>2022-10-21 19:13:18</td>\n",
       "      <td>37.4636</td>\n",
       "      <td>-122.4286</td>\n",
       "      <td>75.81</td>\n",
       "      <td>74</td>\n",
       "      <td>100</td>\n",
       "      <td>10.36</td>\n",
       "    </tr>\n",
       "    <tr>\n",
       "      <th>24</th>\n",
       "      <td>24</td>\n",
       "      <td>Tevaitoa</td>\n",
       "      <td>PF</td>\n",
       "      <td>2022-10-21 19:13:21</td>\n",
       "      <td>-16.7833</td>\n",
       "      <td>-151.5000</td>\n",
       "      <td>79.32</td>\n",
       "      <td>76</td>\n",
       "      <td>13</td>\n",
       "      <td>18.25</td>\n",
       "    </tr>\n",
       "    <tr>\n",
       "      <th>28</th>\n",
       "      <td>28</td>\n",
       "      <td>Bastrop</td>\n",
       "      <td>US</td>\n",
       "      <td>2022-10-21 19:08:28</td>\n",
       "      <td>32.7562</td>\n",
       "      <td>-91.8724</td>\n",
       "      <td>83.88</td>\n",
       "      <td>40</td>\n",
       "      <td>0</td>\n",
       "      <td>9.22</td>\n",
       "    </tr>\n",
       "    <tr>\n",
       "      <th>35</th>\n",
       "      <td>35</td>\n",
       "      <td>Hilo</td>\n",
       "      <td>US</td>\n",
       "      <td>2022-10-21 19:13:26</td>\n",
       "      <td>19.7297</td>\n",
       "      <td>-155.0900</td>\n",
       "      <td>85.28</td>\n",
       "      <td>72</td>\n",
       "      <td>40</td>\n",
       "      <td>4.61</td>\n",
       "    </tr>\n",
       "    <tr>\n",
       "      <th>36</th>\n",
       "      <td>36</td>\n",
       "      <td>Sao Filipe</td>\n",
       "      <td>CV</td>\n",
       "      <td>2022-10-21 19:13:27</td>\n",
       "      <td>14.8961</td>\n",
       "      <td>-24.4956</td>\n",
       "      <td>79.05</td>\n",
       "      <td>77</td>\n",
       "      <td>6</td>\n",
       "      <td>6.35</td>\n",
       "    </tr>\n",
       "    <tr>\n",
       "      <th>37</th>\n",
       "      <td>37</td>\n",
       "      <td>Hithadhoo</td>\n",
       "      <td>MV</td>\n",
       "      <td>2022-10-21 19:13:27</td>\n",
       "      <td>-0.6000</td>\n",
       "      <td>73.0833</td>\n",
       "      <td>80.80</td>\n",
       "      <td>78</td>\n",
       "      <td>100</td>\n",
       "      <td>9.78</td>\n",
       "    </tr>\n",
       "  </tbody>\n",
       "</table>\n",
       "</div>"
      ],
      "text/plain": [
       "    City_ID           City Country                 Date      Lat       Lng  \\\n",
       "12       12        Iquitos      PE  2022-10-21 19:13:15  -3.7481  -73.2472   \n",
       "14       14   San Patricio      US  2022-10-21 19:13:16  28.0170  -97.5169   \n",
       "15       15          Kapaa      US  2022-10-21 19:13:17  22.0752 -159.3190   \n",
       "16       16         Laguna      US  2022-10-21 19:13:17  38.4210 -121.4238   \n",
       "17       17  Half Moon Bay      US  2022-10-21 19:13:18  37.4636 -122.4286   \n",
       "24       24       Tevaitoa      PF  2022-10-21 19:13:21 -16.7833 -151.5000   \n",
       "28       28        Bastrop      US  2022-10-21 19:08:28  32.7562  -91.8724   \n",
       "35       35           Hilo      US  2022-10-21 19:13:26  19.7297 -155.0900   \n",
       "36       36     Sao Filipe      CV  2022-10-21 19:13:27  14.8961  -24.4956   \n",
       "37       37      Hithadhoo      MV  2022-10-21 19:13:27  -0.6000   73.0833   \n",
       "\n",
       "    Max Temp  Humidity  Cloudiness  Wind Speed  \n",
       "12     89.64        66          75        6.91  \n",
       "14     84.15        36           0       12.12  \n",
       "15     82.38        77          75       12.66  \n",
       "16     85.08        46           0        6.91  \n",
       "17     75.81        74         100       10.36  \n",
       "24     79.32        76          13       18.25  \n",
       "28     83.88        40           0        9.22  \n",
       "35     85.28        72          40        4.61  \n",
       "36     79.05        77           6        6.35  \n",
       "37     80.80        78         100        9.78  "
      ]
     },
     "execution_count": 12,
     "metadata": {},
     "output_type": "execute_result"
    }
   ],
   "source": [
    "# Filter the dataset to find the cities that fit the criteria.\n",
    "preferred_cities_df = city_data_df.loc[(city_data_df[\"Max Temp\"] <= max_temp) & \\\n",
    "                                       (city_data_df[\"Max Temp\"] >= min_temp)]\n",
    "preferred_cities_df.head(10)"
   ]
  },
  {
   "cell_type": "code",
   "execution_count": 13,
   "id": "bcef5397",
   "metadata": {},
   "outputs": [
    {
     "data": {
      "text/plain": [
       "City_ID       170\n",
       "City          170\n",
       "Country       170\n",
       "Date          170\n",
       "Lat           170\n",
       "Lng           170\n",
       "Max Temp      170\n",
       "Humidity      170\n",
       "Cloudiness    170\n",
       "Wind Speed    170\n",
       "dtype: int64"
      ]
     },
     "execution_count": 13,
     "metadata": {},
     "output_type": "execute_result"
    }
   ],
   "source": [
    "#determine if there are any null values\n",
    "preferred_cities_df.count()"
   ]
  },
  {
   "cell_type": "markdown",
   "id": "103924a0",
   "metadata": {},
   "source": [
    "**6.5.4 Map Vacation Criteria**"
   ]
  },
  {
   "cell_type": "code",
   "execution_count": 14,
   "id": "a8398187",
   "metadata": {},
   "outputs": [
    {
     "data": {
      "text/html": [
       "<div>\n",
       "<style scoped>\n",
       "    .dataframe tbody tr th:only-of-type {\n",
       "        vertical-align: middle;\n",
       "    }\n",
       "\n",
       "    .dataframe tbody tr th {\n",
       "        vertical-align: top;\n",
       "    }\n",
       "\n",
       "    .dataframe thead th {\n",
       "        text-align: right;\n",
       "    }\n",
       "</style>\n",
       "<table border=\"1\" class=\"dataframe\">\n",
       "  <thead>\n",
       "    <tr style=\"text-align: right;\">\n",
       "      <th></th>\n",
       "      <th>City</th>\n",
       "      <th>Country</th>\n",
       "      <th>Max Temp</th>\n",
       "      <th>Lat</th>\n",
       "      <th>Lng</th>\n",
       "      <th>Hotel Name</th>\n",
       "    </tr>\n",
       "  </thead>\n",
       "  <tbody>\n",
       "    <tr>\n",
       "      <th>12</th>\n",
       "      <td>Iquitos</td>\n",
       "      <td>PE</td>\n",
       "      <td>89.64</td>\n",
       "      <td>-3.7481</td>\n",
       "      <td>-73.2472</td>\n",
       "      <td></td>\n",
       "    </tr>\n",
       "    <tr>\n",
       "      <th>14</th>\n",
       "      <td>San Patricio</td>\n",
       "      <td>US</td>\n",
       "      <td>84.15</td>\n",
       "      <td>28.0170</td>\n",
       "      <td>-97.5169</td>\n",
       "      <td></td>\n",
       "    </tr>\n",
       "    <tr>\n",
       "      <th>15</th>\n",
       "      <td>Kapaa</td>\n",
       "      <td>US</td>\n",
       "      <td>82.38</td>\n",
       "      <td>22.0752</td>\n",
       "      <td>-159.3190</td>\n",
       "      <td></td>\n",
       "    </tr>\n",
       "    <tr>\n",
       "      <th>16</th>\n",
       "      <td>Laguna</td>\n",
       "      <td>US</td>\n",
       "      <td>85.08</td>\n",
       "      <td>38.4210</td>\n",
       "      <td>-121.4238</td>\n",
       "      <td></td>\n",
       "    </tr>\n",
       "    <tr>\n",
       "      <th>17</th>\n",
       "      <td>Half Moon Bay</td>\n",
       "      <td>US</td>\n",
       "      <td>75.81</td>\n",
       "      <td>37.4636</td>\n",
       "      <td>-122.4286</td>\n",
       "      <td></td>\n",
       "    </tr>\n",
       "    <tr>\n",
       "      <th>24</th>\n",
       "      <td>Tevaitoa</td>\n",
       "      <td>PF</td>\n",
       "      <td>79.32</td>\n",
       "      <td>-16.7833</td>\n",
       "      <td>-151.5000</td>\n",
       "      <td></td>\n",
       "    </tr>\n",
       "    <tr>\n",
       "      <th>28</th>\n",
       "      <td>Bastrop</td>\n",
       "      <td>US</td>\n",
       "      <td>83.88</td>\n",
       "      <td>32.7562</td>\n",
       "      <td>-91.8724</td>\n",
       "      <td></td>\n",
       "    </tr>\n",
       "    <tr>\n",
       "      <th>35</th>\n",
       "      <td>Hilo</td>\n",
       "      <td>US</td>\n",
       "      <td>85.28</td>\n",
       "      <td>19.7297</td>\n",
       "      <td>-155.0900</td>\n",
       "      <td></td>\n",
       "    </tr>\n",
       "    <tr>\n",
       "      <th>36</th>\n",
       "      <td>Sao Filipe</td>\n",
       "      <td>CV</td>\n",
       "      <td>79.05</td>\n",
       "      <td>14.8961</td>\n",
       "      <td>-24.4956</td>\n",
       "      <td></td>\n",
       "    </tr>\n",
       "    <tr>\n",
       "      <th>37</th>\n",
       "      <td>Hithadhoo</td>\n",
       "      <td>MV</td>\n",
       "      <td>80.80</td>\n",
       "      <td>-0.6000</td>\n",
       "      <td>73.0833</td>\n",
       "      <td></td>\n",
       "    </tr>\n",
       "  </tbody>\n",
       "</table>\n",
       "</div>"
      ],
      "text/plain": [
       "             City Country  Max Temp      Lat       Lng Hotel Name\n",
       "12        Iquitos      PE     89.64  -3.7481  -73.2472           \n",
       "14   San Patricio      US     84.15  28.0170  -97.5169           \n",
       "15          Kapaa      US     82.38  22.0752 -159.3190           \n",
       "16         Laguna      US     85.08  38.4210 -121.4238           \n",
       "17  Half Moon Bay      US     75.81  37.4636 -122.4286           \n",
       "24       Tevaitoa      PF     79.32 -16.7833 -151.5000           \n",
       "28        Bastrop      US     83.88  32.7562  -91.8724           \n",
       "35           Hilo      US     85.28  19.7297 -155.0900           \n",
       "36     Sao Filipe      CV     79.05  14.8961  -24.4956           \n",
       "37      Hithadhoo      MV     80.80  -0.6000   73.0833           "
      ]
     },
     "execution_count": 14,
     "metadata": {},
     "output_type": "execute_result"
    }
   ],
   "source": [
    "# Create DataFrame called hotel_df to store hotel names along with city, country, max temp, and coordinates.\n",
    "hotel_df = preferred_cities_df[[\"City\", \"Country\", \"Max Temp\", \"Lat\", \"Lng\"]].copy()\n",
    "hotel_df[\"Hotel Name\"] = \"\"\n",
    "hotel_df.head(10)"
   ]
  },
  {
   "cell_type": "code",
   "execution_count": 15,
   "id": "10e8ff29",
   "metadata": {},
   "outputs": [],
   "source": [
    "# Set parameters to search for a hotel.\n",
    "params = {\n",
    "    \"radius\": 5000,\n",
    "    \"type\": \"lodging\",\n",
    "    \"key\": g_key\n",
    "\n",
    "}"
   ]
  },
  {
   "cell_type": "code",
   "execution_count": 19,
   "id": "7b0e07da",
   "metadata": {},
   "outputs": [
    {
     "name": "stdout",
     "output_type": "stream",
     "text": [
      "Hotel not found... skipping.\n",
      "Hotel not found... skipping.\n",
      "Hotel not found... skipping.\n",
      "Hotel not found... skipping.\n",
      "Hotel not found... skipping.\n",
      "Hotel not found... skipping.\n",
      "Hotel not found... skipping.\n",
      "Hotel not found... skipping.\n",
      "Hotel not found... skipping.\n",
      "Hotel not found... skipping.\n",
      "Hotel not found... skipping.\n",
      "Hotel not found... skipping.\n"
     ]
    }
   ],
   "source": [
    "# Iterate through the DataFrame.\n",
    "for index, row in hotel_df.iterrows():\n",
    "    # Get the latitude and longitude.\n",
    "    lat = row[\"Lat\"]\n",
    "    lng = row[\"Lng\"]\n",
    "\n",
    "    # Add the latitude and longitude to location key for the params dictionary.\n",
    "    params[\"location\"] = f\"{lat},{lng}\"\n",
    "\n",
    "    # Use the search term: \"lodging\" and our latitude and longitude.\n",
    "    base_url = \"https://maps.googleapis.com/maps/api/place/nearbysearch/json\"\n",
    "    # Make request and get the JSON data from the search.\n",
    "    hotels = requests.get(base_url, params=params).json()\n",
    "    # Grab the first hotel from the results and store the name.\n",
    "    try:\n",
    "        hotel_df.loc[index, \"Hotel Name\"] = hotels[\"results\"][0][\"name\"]\n",
    "    except (IndexError):\n",
    "        print(\"Hotel not found... skipping.\")"
   ]
  },
  {
   "cell_type": "code",
   "execution_count": 22,
   "id": "e7643b6e",
   "metadata": {},
   "outputs": [
    {
     "data": {
      "text/html": [
       "<div>\n",
       "<style scoped>\n",
       "    .dataframe tbody tr th:only-of-type {\n",
       "        vertical-align: middle;\n",
       "    }\n",
       "\n",
       "    .dataframe tbody tr th {\n",
       "        vertical-align: top;\n",
       "    }\n",
       "\n",
       "    .dataframe thead th {\n",
       "        text-align: right;\n",
       "    }\n",
       "</style>\n",
       "<table border=\"1\" class=\"dataframe\">\n",
       "  <thead>\n",
       "    <tr style=\"text-align: right;\">\n",
       "      <th></th>\n",
       "      <th>City</th>\n",
       "      <th>Country</th>\n",
       "      <th>Max Temp</th>\n",
       "      <th>Lat</th>\n",
       "      <th>Lng</th>\n",
       "      <th>Hotel Name</th>\n",
       "    </tr>\n",
       "  </thead>\n",
       "  <tbody>\n",
       "    <tr>\n",
       "      <th>513</th>\n",
       "      <td>Eyl</td>\n",
       "      <td>SO</td>\n",
       "      <td>78.66</td>\n",
       "      <td>7.9803</td>\n",
       "      <td>49.8164</td>\n",
       "      <td>EYL AQUE SYSTEM</td>\n",
       "    </tr>\n",
       "    <tr>\n",
       "      <th>514</th>\n",
       "      <td>Phan Thiet</td>\n",
       "      <td>VN</td>\n",
       "      <td>75.58</td>\n",
       "      <td>10.9333</td>\n",
       "      <td>108.1000</td>\n",
       "      <td>Hotel Saigon-PT</td>\n",
       "    </tr>\n",
       "    <tr>\n",
       "      <th>516</th>\n",
       "      <td>Jaisalmer</td>\n",
       "      <td>IN</td>\n",
       "      <td>80.55</td>\n",
       "      <td>26.9147</td>\n",
       "      <td>70.9181</td>\n",
       "      <td>Hotel Fifu</td>\n",
       "    </tr>\n",
       "    <tr>\n",
       "      <th>519</th>\n",
       "      <td>Maceio</td>\n",
       "      <td>BR</td>\n",
       "      <td>79.07</td>\n",
       "      <td>-9.6658</td>\n",
       "      <td>-35.7353</td>\n",
       "      <td>Hotel Ponta Verde Maceió</td>\n",
       "    </tr>\n",
       "    <tr>\n",
       "      <th>521</th>\n",
       "      <td>Sur</td>\n",
       "      <td>OM</td>\n",
       "      <td>80.01</td>\n",
       "      <td>22.5667</td>\n",
       "      <td>59.5289</td>\n",
       "      <td>Sur Plaza Hotel</td>\n",
       "    </tr>\n",
       "    <tr>\n",
       "      <th>529</th>\n",
       "      <td>Bom Jesus Do Galho</td>\n",
       "      <td>BR</td>\n",
       "      <td>83.61</td>\n",
       "      <td>-19.8289</td>\n",
       "      <td>-42.3161</td>\n",
       "      <td>Hotel e Restaurante 'Seachegue'</td>\n",
       "    </tr>\n",
       "    <tr>\n",
       "      <th>533</th>\n",
       "      <td>Kijini</td>\n",
       "      <td>TZ</td>\n",
       "      <td>75.25</td>\n",
       "      <td>-5.8500</td>\n",
       "      <td>39.3167</td>\n",
       "      <td>Green and Blue Ocean Lodge</td>\n",
       "    </tr>\n",
       "    <tr>\n",
       "      <th>534</th>\n",
       "      <td>Wanning</td>\n",
       "      <td>CN</td>\n",
       "      <td>75.00</td>\n",
       "      <td>18.8003</td>\n",
       "      <td>110.3967</td>\n",
       "      <td>Paradise Hotel</td>\n",
       "    </tr>\n",
       "    <tr>\n",
       "      <th>536</th>\n",
       "      <td>Buraydah</td>\n",
       "      <td>SA</td>\n",
       "      <td>75.65</td>\n",
       "      <td>26.3260</td>\n",
       "      <td>43.9750</td>\n",
       "      <td>Mövenpick Qassim</td>\n",
       "    </tr>\n",
       "    <tr>\n",
       "      <th>545</th>\n",
       "      <td>Cordoba</td>\n",
       "      <td>AR</td>\n",
       "      <td>88.00</td>\n",
       "      <td>-31.4135</td>\n",
       "      <td>-64.1811</td>\n",
       "      <td>Hotel Sussex</td>\n",
       "    </tr>\n",
       "  </tbody>\n",
       "</table>\n",
       "</div>"
      ],
      "text/plain": [
       "                   City Country  Max Temp      Lat       Lng  \\\n",
       "513                 Eyl      SO     78.66   7.9803   49.8164   \n",
       "514          Phan Thiet      VN     75.58  10.9333  108.1000   \n",
       "516           Jaisalmer      IN     80.55  26.9147   70.9181   \n",
       "519              Maceio      BR     79.07  -9.6658  -35.7353   \n",
       "521                 Sur      OM     80.01  22.5667   59.5289   \n",
       "529  Bom Jesus Do Galho      BR     83.61 -19.8289  -42.3161   \n",
       "533              Kijini      TZ     75.25  -5.8500   39.3167   \n",
       "534             Wanning      CN     75.00  18.8003  110.3967   \n",
       "536            Buraydah      SA     75.65  26.3260   43.9750   \n",
       "545             Cordoba      AR     88.00 -31.4135  -64.1811   \n",
       "\n",
       "                          Hotel Name  \n",
       "513                  EYL AQUE SYSTEM  \n",
       "514                  Hotel Saigon-PT  \n",
       "516                       Hotel Fifu  \n",
       "519         Hotel Ponta Verde Maceió  \n",
       "521                  Sur Plaza Hotel  \n",
       "529  Hotel e Restaurante 'Seachegue'  \n",
       "533       Green and Blue Ocean Lodge  \n",
       "534                   Paradise Hotel  \n",
       "536                 Mövenpick Qassim  \n",
       "545                     Hotel Sussex  "
      ]
     },
     "execution_count": 22,
     "metadata": {},
     "output_type": "execute_result"
    }
   ],
   "source": [
    "hotel_df.tail(10)"
   ]
  },
  {
   "cell_type": "code",
   "execution_count": 29,
   "id": "91bf0ea5",
   "metadata": {},
   "outputs": [],
   "source": [
    "hotel_df=hotel_df[hotel_df[\"Hotel Name\"] != \"\"]"
   ]
  },
  {
   "cell_type": "code",
   "execution_count": 30,
   "id": "0a98770b",
   "metadata": {},
   "outputs": [
    {
     "data": {
      "application/vnd.jupyter.widget-view+json": {
       "model_id": "7c5b6722f3c540138d8940ca69f41a46",
       "version_major": 2,
       "version_minor": 0
      },
      "text/plain": [
       "Figure(layout=FigureLayout(height='420px'))"
      ]
     },
     "metadata": {},
     "output_type": "display_data"
    }
   ],
   "source": [
    "# Add a heatmap of temperature for the vacation spots and marker for each city.\n",
    "locations = hotel_df[[\"Lat\", \"Lng\"]]\n",
    "max_temp = hotel_df[\"Max Temp\"]\n",
    "fig = gmaps.figure(center=(30.0, 31.0), zoom_level=1.5)\n",
    "heat_layer = gmaps.heatmap_layer(locations, weights=max_temp,\n",
    "             dissipating=False, max_intensity=300, point_radius=4)\n",
    "marker_layer = gmaps.marker_layer(locations)\n",
    "fig.add_layer(heat_layer)\n",
    "fig.add_layer(marker_layer)\n",
    "# Call the figure to plot the data.\n",
    "fig"
   ]
  },
  {
   "cell_type": "code",
   "execution_count": 31,
   "id": "cb013536",
   "metadata": {},
   "outputs": [],
   "source": [
    "info_box_template = \"\"\"\n",
    "<dl>\n",
    "<dt>Name</dt><dd>{column1}</dd>\n",
    "<dt>Another name</dt><dd>{column2}</dd>\n",
    "</dl>\n",
    "\"\"\""
   ]
  },
  {
   "cell_type": "code",
   "execution_count": 32,
   "id": "763834b3",
   "metadata": {},
   "outputs": [],
   "source": [
    "info_box_template = \"\"\"\n",
    "<dl>\n",
    "<dt>Hotel Name</dt><dd>{Hotel Name}</dd>\n",
    "<dt>City</dt><dd>{City}</dd>\n",
    "<dt>Country</dt><dd>{Country}</dd>\n",
    "<dt>Max Temp</dt><dd>{Max Temp} °F</dd>\n",
    "</dl>\n",
    "\"\"\""
   ]
  },
  {
   "cell_type": "code",
   "execution_count": 33,
   "id": "843ed1bb",
   "metadata": {},
   "outputs": [],
   "source": [
    "# Store the DataFrame Row.\n",
    "hotel_info = [info_box_template.format(**row) for index, row in hotel_df.iterrows()]"
   ]
  },
  {
   "cell_type": "code",
   "execution_count": 34,
   "id": "165cf527",
   "metadata": {},
   "outputs": [
    {
     "data": {
      "application/vnd.jupyter.widget-view+json": {
       "model_id": "278c8706ff074e6c80eb6b7557443abd",
       "version_major": 2,
       "version_minor": 0
      },
      "text/plain": [
       "Figure(layout=FigureLayout(height='420px'))"
      ]
     },
     "metadata": {},
     "output_type": "display_data"
    }
   ],
   "source": [
    "# Add a heatmap of temperature for the vacation spots and a pop-up marker for each city.\n",
    "locations = hotel_df[[\"Lat\", \"Lng\"]]\n",
    "max_temp = hotel_df[\"Max Temp\"]\n",
    "fig = gmaps.figure(center=(30.0, 31.0), zoom_level=1.5)\n",
    "heat_layer = gmaps.heatmap_layer(locations, weights=max_temp,dissipating=False,\n",
    "             max_intensity=300, point_radius=4)\n",
    "marker_layer = gmaps.marker_layer(locations, info_box_content=hotel_info)\n",
    "fig.add_layer(heat_layer)\n",
    "fig.add_layer(marker_layer)\n",
    "\n",
    "# Call the figure to plot the data.\n",
    "fig"
   ]
  },
  {
   "cell_type": "code",
   "execution_count": null,
   "id": "a4c80e95",
   "metadata": {},
   "outputs": [],
   "source": []
  }
 ],
 "metadata": {
  "kernelspec": {
   "display_name": "PythonData",
   "language": "python",
   "name": "pythondata"
  },
  "language_info": {
   "codemirror_mode": {
    "name": "ipython",
    "version": 3
   },
   "file_extension": ".py",
   "mimetype": "text/x-python",
   "name": "python",
   "nbconvert_exporter": "python",
   "pygments_lexer": "ipython3",
   "version": "3.9.12"
  }
 },
 "nbformat": 4,
 "nbformat_minor": 5
}
